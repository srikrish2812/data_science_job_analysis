{
 "cells": [
  {
   "cell_type": "code",
   "execution_count": 38,
   "id": "8f505a8f-e975-4b97-801e-908c3bf438bb",
   "metadata": {},
   "outputs": [],
   "source": [
    "import cloudscraper\n",
    "import time\n",
    "from time import sleep\n",
    "from random import randint\n",
    "import json"
   ]
  },
  {
   "cell_type": "code",
   "execution_count": 76,
   "id": "274fd3d6-8c18-41a9-84a3-b6df2d1b3a87",
   "metadata": {},
   "outputs": [
    {
     "name": "stdout",
     "output_type": "stream",
     "text": [
      "403\n",
      "I am here\n",
      "200\n",
      "I am here\n",
      "I am not there\n",
      "200\n"
     ]
    }
   ],
   "source": [
    "test_scraper= cloudscraper.create_scraper()\n",
    "test_response = test_scraper.get(\"https://www.indeed.com/viewjob?jk=587297c771c71755&tk=1hfkh7nsbkolh800&from=serp&vjs=3\")\n",
    "while(test_response.status_code!=200):\n",
    "    test_scraper= cloudscraper.create_scraper()\n",
    "    test_response = test_scraper.get(\"https://www.indeed.com/viewjob?jk=587297c771c71755&tk=1hfkh7nsbkolh800&from=serp&vjs=3\")\n",
    "    print(test_response.status_code)\n",
    "    print(\"I am here\")\n",
    "    sleep(randint(3,6))\n",
    "print(\"I am not there\")\n",
    "print(test_response.status_code)"
   ]
  },
  {
   "cell_type": "code",
   "execution_count": 75,
   "id": "a7f55af9-e79c-46f6-8ab4-b2519a643c5f",
   "metadata": {},
   "outputs": [
    {
     "name": "stdout",
     "output_type": "stream",
     "text": [
      "200\n"
     ]
    }
   ],
   "source": [
    "new_scraper= cloudscraper.create_scraper()\n",
    "new_response = new_scraper.get(\"https://www.indeed.com/viewjob?jk=587297c771c71755&tk=1hfkh7nsbkolh800&from=serp&vjs=3\")\n",
    "print(new_response.status_code)"
   ]
  },
  {
   "cell_type": "code",
   "execution_count": 30,
   "id": "15a1edd0-74a5-4e9c-af9d-41cfa444b697",
   "metadata": {},
   "outputs": [
    {
     "name": "stdout",
     "output_type": "stream",
     "text": [
      "[{\"title\":\"Data Scientist - All Levels\",\"company\":\"Interclypse Inc\",\"formattedLocation\":\"San Antonio, TX\",\"formattedRelativeTime\":\"Just posted\",\"snippet\":\"Excellent interpersonal skills and ability to get along with data scientists, engineers, and customers at all levels.\",\"link\":\"/rc/clk?jk=e0334a26310bc4d6\\u0026fccid=bff7a5b1c79a5c87\\u0026vjs=3\",\"newJob\":true,\"viewJobLink\":\"/viewjob?jk=e0334a26310bc4d6\\u0026from=vjs\\u0026tk=1hfkvj7tvjg9o802\\u0026viewtype=embedded\\u0026continueUrl=%2Fjobs%3Ffilter%3D0%26q%3Ddata%2Bscientist%26start%3D0%26sort%3Ddate%26l%3DUnited%2BStates\",\"sourceId\":12855147,\"salarySnippet\":{},\"taxonomyAttributes\":[{\"label\":\"dynamic-attributes\"},{\"label\":\"job-types\"},{\"label\":\"shifts\"},{\"label\":\"remote\"},{\"attributes\":[{\"label\":\"Paid jury duty\"},{\"label\":\"Health savings account\"},{\"label\":\"401(k) 8% Match\"},{\"label\":\"Disability insurance\"},{\"label\":\"Health insurance\"},{\"label\":\"Dental insurance\"},{\"label\":\"401(k)\"},{\"label\":\"Happy hour\"},{\"label\":\"Paid time off\"},{\"label\":\"Parental leave\"},{\"label\":\"Vision insurance\"},{\"label\":\"401(k) matching\"},{\"label\":\"Bereavement leave\"},{\"label\":\"Life insurance\"}],\"label\":\"benefits\"},{\"label\":\"job-types-cc\"},{\"label\":\"schedules\"}]},{\"title\":\"Prompt Engineer for Generative AI (chatbot and image)\",\"company\":\"Vicarious Talent Agency\",\"jobTypes\":[\"Contract\"],\"formattedLocation\":\"Seattle, WA 98122\",\"formattedRelativeTime\":\"Just posted\",\"snippet\":\"The ideal candidate will have experience with Java programming, AWS services, data mining, quantum engineering, VBA scripting, machine learning, AI, statistical…\",\"dradisJob\":true,\"link\":\"/company/Vicarious-Talent-Agency/jobs/Engineer-9ccc7fece7b13f02?fccid=26ff296add7d1944\\u0026vjs=3\",\"newJob\":true,\"viewJobLink\":\"/viewjob?jk=9ccc7fece7b13f02\\u0026from=vjs\\u0026tk=1hfkvj7tvjg9o802\\u0026viewtype=embedded\\u0026continueUrl=%2Fjobs%3Ffilter%3D0%26q%3Ddata%2Bscientist%26start%3D0%26sort%3Ddate%26l%3DUnited%2BStates\",\"indeedApplyable\":true,\"sourceId\":28917995,\"indeedApplyEnabled\":true,\"jobLocationExtras\":\"First Hill\",\"salarySnippet\":{\"text\":\"$35 - $55 an hour\"},\"remoteWorkModel\":{\"type\":\"REMOTE_HYBRID\"},\"taxonomyAttributes\":[{\"label\":\"dynamic-attributes\"},{\"attributes\":[{\"label\":\"Contract\"}],\"label\":\"job-types\"},{\"label\":\"shifts\"},{\"attributes\":[{\"label\":\"Hybrid work\"}],\"label\":\"remote\"},{\"attributes\":[{\"label\":\"Health insurance\"},{\"label\":\"401(k)\"}],\"label\":\"benefits\"},{\"attributes\":[{\"label\":\"Contract\"}],\"label\":\"job-types-cc\"},{\"label\":\"schedules\"}]},{\"title\":\"Data Systems Analyst/Architect\",\"company\":\"General Dynamics Information Technology\",\"companyRating\":3.7,\"companyReviewCount\":5656,\"formattedLocation\":\"Indiana\",\"formattedRelativeTime\":\"Today\",\"snippet\":\"Familiarity with Project Management Institute (PMI) project management tools, techniques, and documentation with the ability to prescribe those into adaptable…\",\"link\":\"/rc/clk?jk=7eff4c3d5d903174\\u0026fccid=11caadcdc98800d4\\u0026vjs=3\",\"newJob\":true,\"viewJobLink\":\"/viewjob?jk=7eff4c3d5d903174\\u0026from=vjs\\u0026tk=1hfkvj7tvjg9o802\\u0026viewtype=embedded\\u0026continueUrl=%2Fjobs%3Ffilter%3D0%26q%3Ddata%2Bscientist%26start%3D0%26sort%3Ddate%26l%3DUnited%2BStates\",\"sourceId\":45034,\"companyOverviewLink\":\"/cmp/General-Dynamics-Information-Technology\",\"salarySnippet\":{\"text\":\"$104,000 - $156,000 a year\"},\"remoteWorkModel\":{\"type\":\"REMOTE_ALWAYS\"},\"taxonomyAttributes\":[{\"label\":\"dynamic-attributes\"},{\"label\":\"job-types\"},{\"label\":\"shifts\"},{\"attributes\":[{\"label\":\"Remote\"}],\"label\":\"remote\"},{\"attributes\":[{\"label\":\"401(k)\"},{\"label\":\"Paid time off\"},{\"label\":\"401(k) matching\"}],\"label\":\"benefits\"},{\"label\":\"job-types-cc\"},{\"label\":\"schedules\"}]},{\"title\":\"Director, Statistics (Pipeline)\",\"company\":\"ABBVIE\",\"companyRating\":3.9,\"companyReviewCount\":1403,\"formattedLocation\":\"United States\",\"formattedRelativeTime\":\"Today\",\"snippet\":\"Protocols: Directs the development of statistical designs and analysis procedures for scientific protocols, ensuring they are scientifically sound, aligned with…\",\"link\":\"/rc/clk?jk=587297c771c71755\\u0026fccid=a3b51ece17c02aae\\u0026vjs=3\",\"newJob\":true,\"viewJobLink\":\"/viewjob?jk=587297c771c71755\\u0026from=vjs\\u0026tk=1hfkvj7tvjg9o802\\u0026viewtype=embedded\\u0026continueUrl=%2Fjobs%3Ffilter%3D0%26q%3Ddata%2Bscientist%26start%3D0%26sort%3Ddate%26l%3DUnited%2BStates\",\"sourceId\":385284,\"companyOverviewLink\":\"/cmp/Abbvie\",\"salarySnippet\":{},\"taxonomyAttributes\":[{\"label\":\"dynamic-attributes\"},{\"attributes\":[{\"label\":\"Full-time\"}],\"label\":\"job-types\"},{\"label\":\"shifts\"},{\"label\":\"remote\"},{\"label\":\"benefits\"},{\"attributes\":[{\"label\":\"Full-time\"}],\"label\":\"job-types-cc\"},{\"label\":\"schedules\"}]},{\"title\":\"Data Scientist, Sr\",\"company\":\"Children's Hospital Los Angeles\",\"companyRating\":4.1,\"companyReviewCount\":398,\"formattedLocation\":\"Los Angeles, CA\",\"formattedRelativeTime\":\"Today\",\"snippet\":\"The Senior Data Scientist is required to solve meaningful clinical problems and develop new decision support tools by applying techniques and models from…\",\"link\":\"/rc/clk?jk=1d665b909c4d6e98\\u0026fccid=600ab51dbaf8fbb5\\u0026vjs=3\",\"newJob\":true,\"viewJobLink\":\"/viewjob?jk=1d665b909c4d6e98\\u0026from=vjs\\u0026tk=1hfkvj7tvjg9o802\\u0026viewtype=embedded\\u0026continueUrl=%2Fjobs%3Ffilter%3D0%26q%3Ddata%2Bscientist%26start%3D0%26sort%3Ddate%26l%3DUnited%2BStates\",\"sourceId\":700513,\"companyOverviewLink\":\"/cmp/Children's-Hospital-Los-Angeles\",\"salarySnippet\":{},\"taxonomyAttributes\":[{\"label\":\"dynamic-attributes\"},{\"attributes\":[{\"label\":\"Full-time\"}],\"label\":\"job-types\"},{\"label\":\"shifts\"},{\"label\":\"remote\"},{\"label\":\"benefits\"},{\"attributes\":[{\"label\":\"Full-time\"}],\"label\":\"job-types-cc\"},{\"label\":\"schedules\"}]},{\"title\":\"AI Trainer\",\"company\":\"Easyhiring for JG_US_JS_AM_AVAND\",\"jobTypes\":[\"Full-time\",\"Part-time\"],\"formattedLocation\":\"Fargo, ND\",\"formattedRelativeTime\":\"Today\",\"snippet\":\"Strong research and fact-checking skills to ensure accuracy and originality. Have conversations with chatbots in order to measure their progress, as well as…\",\"dradisJob\":true,\"link\":\"/company/Easyhiring-for-JG_US_JS_AM_AVAND/jobs/Trainer-4ebd9c8dfad56215?fccid=dd616958bd9ddc12\\u0026vjs=3\",\"newJob\":true,\"viewJobLink\":\"/viewjob?jk=4ebd9c8dfad56215\\u0026from=vjs\\u0026tk=1hfkvj7tvjg9o802\\u0026viewtype=embedded\\u0026continueUrl=%2Fjobs%3Ffilter%3D0%26q%3Ddata%2Bscientist%26start%3D0%26sort%3Ddate%26l%3DUnited%2BStates\",\"sourceId\":28664996,\"salarySnippet\":{},\"taxonomyAttributes\":[{\"label\":\"dynamic-attributes\"},{\"attributes\":[{\"label\":\"Part-time\"},{\"label\":\"Full-time\"}],\"label\":\"job-types\"},{\"label\":\"shifts\"},{\"label\":\"remote\"},{\"label\":\"benefits\"},{\"attributes\":[{\"label\":\"Part-time\"},{\"label\":\"Full-time\"}],\"label\":\"job-types-cc\"},{\"label\":\"schedules\"}]},{\"title\":\"Software ML Engineer (MSO)\",\"company\":\"Apple\",\"companyRating\":4.1,\"companyReviewCount\":12476,\"formattedLocation\":\"Cupertino, CA\",\"formattedRelativeTime\":\"Today\",\"snippet\":\"Note: Apple benefit, compensation and employee stock programs are subject to eligibility requirements and other terms of the applicable plan or program.\",\"link\":\"/rc/clk?jk=19072cb4d626e20c\\u0026fccid=c1099851e9794854\\u0026vjs=3\",\"newJob\":true,\"viewJobLink\":\"/viewjob?jk=19072cb4d626e20c\\u0026from=vjs\\u0026tk=1hfkvj7tvjg9o802\\u0026viewtype=embedded\\u0026continueUrl=%2Fjobs%3Ffilter%3D0%26q%3Ddata%2Bscientist%26start%3D0%26sort%3Ddate%26l%3DUnited%2BStates\",\"sourceId\":2700,\"companyOverviewLink\":\"/cmp/Apple\",\"salarySnippet\":{},\"taxonomyAttributes\":[{\"label\":\"dynamic-attributes\"},{\"attributes\":[{\"label\":\"Full-time\"}],\"label\":\"job-types\"},{\"label\":\"shifts\"},{\"label\":\"remote\"},{\"attributes\":[{\"label\":\"Employee stock purchase plan\"},{\"label\":\"Health insurance\"},{\"label\":\"Dental insurance\"},{\"label\":\"RSU\"},{\"label\":\"Retirement plan\"}],\"label\":\"benefits\"},{\"attributes\":[{\"label\":\"Full-time\"}],\"label\":\"job-types-cc\"},{\"attributes\":[{\"label\":\"On call\"}],\"label\":\"schedules\"}]},{\"title\":\"Senior Machine Learning Research Engineer\",\"company\":\"Apple\",\"companyRating\":4.1,\"companyReviewCount\":12476,\"formattedLocation\":\"Cupertino, CA\",\"formattedRelativeTime\":\"Today\",\"snippet\":\"Work on some of the most ambitious technical problems on data and compute efficient machine learning and spatial AI Research novel AI solutions that will impact…\",\"link\":\"/rc/clk?jk=7174e535d38dcd27\\u0026fccid=c1099851e9794854\\u0026vjs=3\",\"newJob\":true,\"viewJobLink\":\"/viewjob?jk=7174e535d38dcd27\\u0026from=vjs\\u0026tk=1hfkvj7tvjg9o802\\u0026viewtype=embedded\\u0026continueUrl=%2Fjobs%3Ffilter%3D0%26q%3Ddata%2Bscientist%26start%3D0%26sort%3Ddate%26l%3DUnited%2BStates\",\"sourceId\":2700,\"companyOverviewLink\":\"/cmp/Apple\",\"salarySnippet\":{},\"taxonomyAttributes\":[{\"label\":\"dynamic-attributes\"},{\"label\":\"job-types\"},{\"label\":\"shifts\"},{\"label\":\"remote\"},{\"attributes\":[{\"label\":\"Employee stock purchase plan\"},{\"label\":\"Health insurance\"},{\"label\":\"Dental insurance\"},{\"label\":\"RSU\"},{\"label\":\"Retirement plan\"}],\"label\":\"benefits\"},{\"label\":\"job-types-cc\"},{\"label\":\"schedules\"}]},{\"title\":\"Senior Machine Learning Engineer - System Experience Personalization\",\"company\":\"Apple\",\"companyRating\":4.1,\"companyReviewCount\":12476,\"formattedLocation\":\"Cupertino, CA\",\"formattedRelativeTime\":\"Today\",\"snippet\":\"Comprehensive understanding of machine learning algorithms, deep learning architectures, supervised, unsupervised and reinforcement learning modeling techniques…\",\"link\":\"/rc/clk?jk=349ec39665b5d289\\u0026fccid=c1099851e9794854\\u0026vjs=3\",\"newJob\":true,\"viewJobLink\":\"/viewjob?jk=349ec39665b5d289\\u0026from=vjs\\u0026tk=1hfkvj7tvjg9o802\\u0026viewtype=embedded\\u0026continueUrl=%2Fjobs%3Ffilter%3D0%26q%3Ddata%2Bscientist%26start%3D0%26sort%3Ddate%26l%3DUnited%2BStates\",\"sourceId\":2700,\"companyOverviewLink\":\"/cmp/Apple\",\"salarySnippet\":{},\"taxonomyAttributes\":[{\"label\":\"dynamic-attributes\"},{\"attributes\":[{\"label\":\"Full-time\"}],\"label\":\"job-types\"},{\"label\":\"shifts\"},{\"label\":\"remote\"},{\"attributes\":[{\"label\":\"Employee stock purchase plan\"},{\"label\":\"Health insurance\"},{\"label\":\"Dental insurance\"},{\"label\":\"RSU\"},{\"label\":\"Retirement plan\"}],\"label\":\"benefits\"},{\"attributes\":[{\"label\":\"Full-time\"}],\"label\":\"job-types-cc\"},{\"label\":\"schedules\"}]},{\"title\":\"Artificial Intelligence Program Manager\",\"company\":\"Deloitte\",\"companyRating\":3.9,\"companyReviewCount\":12402,\"formattedLocation\":\"Indianapolis, IN\",\"formattedRelativeTime\":\"Today\",\"snippet\":\"This role will manage solution delivery through a variety of activities including upfront strategy, use case selection, process design, business case…\",\"link\":\"/rc/clk?jk=c6881c6d3332af28\\u0026fccid=9e215d88a6b33622\\u0026vjs=3\",\"newJob\":true,\"viewJobLink\":\"/viewjob?jk=c6881c6d3332af28\\u0026from=vjs\\u0026tk=1hfkvj7tvjg9o802\\u0026viewtype=embedded\\u0026continueUrl=%2Fjobs%3Ffilter%3D0%26q%3Ddata%2Bscientist%26start%3D0%26sort%3Ddate%26l%3DUnited%2BStates\",\"sourceId\":7215,\"companyOverviewLink\":\"/cmp/Deloitte\",\"salarySnippet\":{},\"taxonomyAttributes\":[{\"label\":\"dynamic-attributes\"},{\"attributes\":[{\"label\":\"Full-time\"}],\"label\":\"job-types\"},{\"label\":\"shifts\"},{\"label\":\"remote\"},{\"label\":\"benefits\"},{\"attributes\":[{\"label\":\"Full-time\"}],\"label\":\"job-types-cc\"},{\"label\":\"schedules\"}]},{\"title\":\"Artificial Intelligence Program Manager\",\"company\":\"Deloitte\",\"companyRating\":3.9,\"companyReviewCount\":12402,\"formattedLocation\":\"Jacksonville, FL\",\"formattedRelativeTime\":\"Today\",\"snippet\":\"This role will manage solution delivery through a variety of activities including upfront strategy, use case selection, process design, business case…\",\"link\":\"/rc/clk?jk=841368bb0f9aca6d\\u0026fccid=9e215d88a6b33622\\u0026vjs=3\",\"newJob\":true,\"viewJobLink\":\"/viewjob?jk=841368bb0f9aca6d\\u0026from=vjs\\u0026tk=1hfkvj7tvjg9o802\\u0026viewtype=embedded\\u0026continueUrl=%2Fjobs%3Ffilter%3D0%26q%3Ddata%2Bscientist%26start%3D0%26sort%3Ddate%26l%3DUnited%2BStates\",\"sourceId\":7215,\"companyOverviewLink\":\"/cmp/Deloitte\",\"salarySnippet\":{},\"taxonomyAttributes\":[{\"label\":\"dynamic-attributes\"},{\"attributes\":[{\"label\":\"Full-time\"}],\"label\":\"job-types\"},{\"label\":\"shifts\"},{\"label\":\"remote\"},{\"label\":\"benefits\"},{\"attributes\":[{\"label\":\"Full-time\"}],\"label\":\"job-types-cc\"},{\"label\":\"schedules\"}]},{\"title\":\"Artificial Intelligence Program Manager\",\"company\":\"Deloitte\",\"companyRating\":3.9,\"companyReviewCount\":12402,\"formattedLocation\":\"Boston, MA\",\"formattedRelativeTime\":\"Today\",\"snippet\":\"This role will manage solution delivery through a variety of activities including upfront strategy, use case selection, process design, business case…\",\"link\":\"/rc/clk?jk=5fba4dc9fd7f5ab1\\u0026fccid=9e215d88a6b33622\\u0026vjs=3\",\"newJob\":true,\"viewJobLink\":\"/viewjob?jk=5fba4dc9fd7f5ab1\\u0026from=vjs\\u0026tk=1hfkvj7tvjg9o802\\u0026viewtype=embedded\\u0026continueUrl=%2Fjobs%3Ffilter%3D0%26q%3Ddata%2Bscientist%26start%3D0%26sort%3Ddate%26l%3DUnited%2BStates\",\"sourceId\":7215,\"companyOverviewLink\":\"/cmp/Deloitte\",\"salarySnippet\":{},\"taxonomyAttributes\":[{\"label\":\"dynamic-attributes\"},{\"attributes\":[{\"label\":\"Full-time\"}],\"label\":\"job-types\"},{\"label\":\"shifts\"},{\"label\":\"remote\"},{\"label\":\"benefits\"},{\"attributes\":[{\"label\":\"Full-time\"}],\"label\":\"job-types-cc\"},{\"label\":\"schedules\"}]},{\"title\":\"Artificial Intelligence Program Manager\",\"company\":\"Deloitte\",\"companyRating\":3.9,\"companyReviewCount\":12402,\"formattedLocation\":\"Louisville, KY\",\"formattedRelativeTime\":\"Today\",\"snippet\":\"This role will manage solution delivery through a variety of activities including upfront strategy, use case selection, process design, business case…\",\"link\":\"/rc/clk?jk=140a029810cf6c58\\u0026fccid=9e215d88a6b33622\\u0026vjs=3\",\"newJob\":true,\"viewJobLink\":\"/viewjob?jk=140a029810cf6c58\\u0026from=vjs\\u0026tk=1hfkvj7tvjg9o802\\u0026viewtype=embedded\\u0026continueUrl=%2Fjobs%3Ffilter%3D0%26q%3Ddata%2Bscientist%26start%3D0%26sort%3Ddate%26l%3DUnited%2BStates\",\"sourceId\":7215,\"companyOverviewLink\":\"/cmp/Deloitte\",\"salarySnippet\":{},\"taxonomyAttributes\":[{\"label\":\"dynamic-attributes\"},{\"attributes\":[{\"label\":\"Full-time\"}],\"label\":\"job-types\"},{\"label\":\"shifts\"},{\"label\":\"remote\"},{\"label\":\"benefits\"},{\"attributes\":[{\"label\":\"Full-time\"}],\"label\":\"job-types-cc\"},{\"label\":\"schedules\"}]},{\"title\":\"Artificial Intelligence Program Manager\",\"company\":\"Deloitte\",\"companyRating\":3.9,\"companyReviewCount\":12402,\"formattedLocation\":\"Tempe, AZ\",\"formattedRelativeTime\":\"Today\",\"snippet\":\"This role will manage solution delivery through a variety of activities including upfront strategy, use case selection, process design, business case…\",\"link\":\"/rc/clk?jk=960217181d6db320\\u0026fccid=9e215d88a6b33622\\u0026vjs=3\",\"newJob\":true,\"viewJobLink\":\"/viewjob?jk=960217181d6db320\\u0026from=vjs\\u0026tk=1hfkvj7tvjg9o802\\u0026viewtype=embedded\\u0026continueUrl=%2Fjobs%3Ffilter%3D0%26q%3Ddata%2Bscientist%26start%3D0%26sort%3Ddate%26l%3DUnited%2BStates\",\"sourceId\":7215,\"companyOverviewLink\":\"/cmp/Deloitte\",\"salarySnippet\":{},\"taxonomyAttributes\":[{\"label\":\"dynamic-attributes\"},{\"attributes\":[{\"label\":\"Full-time\"}],\"label\":\"job-types\"},{\"label\":\"shifts\"},{\"label\":\"remote\"},{\"label\":\"benefits\"},{\"attributes\":[{\"label\":\"Full-time\"}],\"label\":\"job-types-cc\"},{\"label\":\"schedules\"}]},{\"title\":\"Artificial Intelligence Program Manager\",\"company\":\"Deloitte\",\"companyRating\":3.9,\"companyReviewCount\":12402,\"formattedLocation\":\"Boise, ID\",\"formattedRelativeTime\":\"Today\",\"snippet\":\"This role will manage solution delivery through a variety of activities including upfront strategy, use case selection, process design, business case…\",\"link\":\"/rc/clk?jk=7caef4aff6980b8a\\u0026fccid=9e215d88a6b33622\\u0026vjs=3\",\"newJob\":true,\"viewJobLink\":\"/viewjob?jk=7caef4aff6980b8a\\u0026from=vjs\\u0026tk=1hfkvj7tvjg9o802\\u0026viewtype=embedded\\u0026continueUrl=%2Fjobs%3Ffilter%3D0%26q%3Ddata%2Bscientist%26start%3D0%26sort%3Ddate%26l%3DUnited%2BStates\",\"sourceId\":7215,\"companyOverviewLink\":\"/cmp/Deloitte\",\"salarySnippet\":{},\"taxonomyAttributes\":[{\"label\":\"dynamic-attributes\"},{\"attributes\":[{\"label\":\"Full-time\"}],\"label\":\"job-types\"},{\"label\":\"shifts\"},{\"label\":\"remote\"},{\"label\":\"benefits\"},{\"attributes\":[{\"label\":\"Full-time\"}],\"label\":\"job-types-cc\"},{\"label\":\"schedules\"}]}]\n"
     ]
    }
   ],
   "source": [
    "# pip install zenrows\n",
    "from zenrows import ZenRowsClient\n",
    "\n",
    "client = ZenRowsClient(\"87268a5755932deaff28a8d9c1ecef19ab09f649\")\n",
    "url = \"https://www.indeed.com/jobs?q=data+scientist&l=United+States&sort=date&filter=0&start=0\"\n",
    "params = {\"autoparse\":\"true\"}\n",
    "\n",
    "response = client.get(url, params=params)\n",
    "\n",
    "print(len(response.text))"
   ]
  },
  {
   "cell_type": "code",
   "execution_count": 46,
   "id": "0da00a34-5fff-4c8d-80dd-49ecdf0002f6",
   "metadata": {},
   "outputs": [
    {
     "data": {
      "text/plain": [
       "{'title': 'Data Scientist - All Levels',\n",
       " 'company': 'Interclypse Inc',\n",
       " 'formattedLocation': 'San Antonio, TX',\n",
       " 'formattedRelativeTime': 'Just posted',\n",
       " 'snippet': 'Excellent interpersonal skills and ability to get along with data scientists, engineers, and customers at all levels.',\n",
       " 'link': '/rc/clk?jk=e0334a26310bc4d6&fccid=bff7a5b1c79a5c87&vjs=3',\n",
       " 'newJob': True,\n",
       " 'viewJobLink': '/viewjob?jk=e0334a26310bc4d6&from=vjs&tk=1hfkvj7tvjg9o802&viewtype=embedded&continueUrl=%2Fjobs%3Ffilter%3D0%26q%3Ddata%2Bscientist%26start%3D0%26sort%3Ddate%26l%3DUnited%2BStates',\n",
       " 'sourceId': 12855147,\n",
       " 'salarySnippet': {},\n",
       " 'taxonomyAttributes': [{'label': 'dynamic-attributes'},\n",
       "  {'label': 'job-types'},\n",
       "  {'label': 'shifts'},\n",
       "  {'label': 'remote'},\n",
       "  {'attributes': [{'label': 'Paid jury duty'},\n",
       "    {'label': 'Health savings account'},\n",
       "    {'label': '401(k) 8% Match'},\n",
       "    {'label': 'Disability insurance'},\n",
       "    {'label': 'Health insurance'},\n",
       "    {'label': 'Dental insurance'},\n",
       "    {'label': '401(k)'},\n",
       "    {'label': 'Happy hour'},\n",
       "    {'label': 'Paid time off'},\n",
       "    {'label': 'Parental leave'},\n",
       "    {'label': 'Vision insurance'},\n",
       "    {'label': '401(k) matching'},\n",
       "    {'label': 'Bereavement leave'},\n",
       "    {'label': 'Life insurance'}],\n",
       "   'label': 'benefits'},\n",
       "  {'label': 'job-types-cc'},\n",
       "  {'label': 'schedules'}]}"
      ]
     },
     "execution_count": 46,
     "metadata": {},
     "output_type": "execute_result"
    }
   ],
   "source": [
    "req_response = json.loads(response.text)\n",
    "req_response[0]"
   ]
  },
  {
   "cell_type": "code",
   "execution_count": null,
   "id": "940566d5-8306-4b58-8ec3-562aa006122d",
   "metadata": {},
   "outputs": [],
   "source": []
  }
 ],
 "metadata": {
  "kernelspec": {
   "display_name": "Python 3 (ipykernel)",
   "language": "python",
   "name": "python3"
  },
  "language_info": {
   "codemirror_mode": {
    "name": "ipython",
    "version": 3
   },
   "file_extension": ".py",
   "mimetype": "text/x-python",
   "name": "python",
   "nbconvert_exporter": "python",
   "pygments_lexer": "ipython3",
   "version": "3.11.4"
  }
 },
 "nbformat": 4,
 "nbformat_minor": 5
}
